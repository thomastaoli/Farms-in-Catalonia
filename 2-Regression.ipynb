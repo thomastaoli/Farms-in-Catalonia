{
 "cells": [
  {
   "cell_type": "code",
   "execution_count": 24,
   "metadata": {},
   "outputs": [
    {
     "name": "stdout",
     "output_type": "stream",
     "text": [
      "The rpy2.ipython extension is already loaded. To reload it, use:\n",
      "  %reload_ext rpy2.ipython\n",
      "The autoreload extension is already loaded. To reload it, use:\n",
      "  %reload_ext autoreload\n"
     ]
    }
   ],
   "source": [
    "%load_ext rpy2.ipython\n",
    "%load_ext autoreload\n",
    "%autoreload 2\n",
    "\n",
    "%matplotlib inline  \n",
    "from matplotlib import rcParams\n",
    "rcParams['figure.figsize'] = (16, 100)\n",
    "\n",
    "import warnings\n",
    "from rpy2.rinterface import RRuntimeWarning\n",
    "warnings.filterwarnings(\"ignore\") # Ignore all warnings\n",
    "# warnings.filterwarnings(\"ignore\", category=RRuntimeWarning) # Show some warnings\n",
    "\n",
    "import pandas as pd\n",
    "import numpy as np\n",
    "import matplotlib.pyplot as plt\n",
    "from IPython.display import display, HTML"
   ]
  },
  {
   "cell_type": "code",
   "execution_count": 25,
   "metadata": {},
   "outputs": [
    {
     "data": {
      "application/javascript": "IPython.OutputArea.prototype._should_scroll = function(lines) {\n    return false;\n}\npd.set_option('display.max_columns', None)\n",
      "text/plain": [
       "<IPython.core.display.Javascript object>"
      ]
     },
     "metadata": {},
     "output_type": "display_data"
    }
   ],
   "source": [
    "%%javascript\n",
    "IPython.OutputArea.prototype._should_scroll = function(lines) {\n",
    "    return false;\n",
    "}\n",
    "pd.set_option('display.max_columns', None)"
   ]
  },
  {
   "cell_type": "code",
   "execution_count": 26,
   "metadata": {},
   "outputs": [],
   "source": [
    "%%R\n",
    "\n",
    "library(car)\n"
   ]
  },
  {
   "cell_type": "code",
   "execution_count": 27,
   "metadata": {},
   "outputs": [
    {
     "name": "stdout",
     "output_type": "stream",
     "text": [
      "      MO      CODI.REGA ESTAT.EXPLOTACIÓ DATA.CANVI.ESTAT.EXPLOTACIÓ\n",
      "1 0010AA ES250010030750           Activa                  21/01/1997\n",
      "2 0010AA ES250010030750           Activa                  21/01/1997\n",
      "3 0010AA ES250010030750           Activa                  21/01/1997\n",
      "4 0010AA ES250010030750           Activa                  21/01/1997\n",
      "5 0010AB ES250010031100           Activa                  21/04/1997\n",
      "6 0010AC ES250010031700           Activa                  01/12/1997\n",
      "           NOM.EXPLOTACIO  ADREÇA.EXPLOTACIÓ CODI.POSTAL.EXPLOTACIO\n",
      "1 CASA JULIU - JORDI GASA        MASIA JULIU                  25651\n",
      "2 CASA JULIU - JORDI GASA        MASIA JULIU                  25651\n",
      "3 CASA JULIU - JORDI GASA        MASIA JULIU                  25651\n",
      "4 CASA JULIU - JORDI GASA        MASIA JULIU                  25651\n",
      "5            CASA GONELLA            BOIXOLS                  25651\n",
      "6        SORT DE L'AGUSTÍ ABELLA DE LA CONCA                  25651\n",
      "  SERVEI.TERRITORIAL..EXPLOTACIÓ PROVINCIA.EXPLOTACIÓ COMARCA.EXPLOTACIÓ\n",
      "1                    Alt Pirineu               Lleida      Pallars Jussà\n",
      "2                    Alt Pirineu               Lleida      Pallars Jussà\n",
      "3                    Alt Pirineu               Lleida      Pallars Jussà\n",
      "4                    Alt Pirineu               Lleida      Pallars Jussà\n",
      "5                    Alt Pirineu               Lleida      Pallars Jussà\n",
      "6                    Alt Pirineu               Lleida      Pallars Jussà\n",
      "  MUNICIPI.EXPLOTACIÓ COORDENADA.X.EXPLOTACIÓ COORDENADA.Y.EXPLOTACIÓ\n",
      "1  Abella de la Conca                340614,1              4667399,98\n",
      "2  Abella de la Conca                340614,1              4667399,98\n",
      "3  Abella de la Conca                340614,1              4667399,98\n",
      "4  Abella de la Conca                340614,1              4667399,98\n",
      "5  Abella de la Conca               347415,25               4671890,5\n",
      "6  Abella de la Conca               340088,59                 4667468\n",
      "    LATITUD.EXPLOTACIÓ LONGITUD.EXPLOTACIÓ        TIPUS.EXPLOTACIÓ ESPÈCIE\n",
      "1 42.0º 8.0' 33.0498''  1.0º 4.0' 16.269'' Producció i reproducció    Boví\n",
      "2 42.0º 8.0' 33.0498''  1.0º 4.0' 16.269'' Producció i reproducció   Porcí\n",
      "3 42.0º 8.0' 33.0498''  1.0º 4.0' 16.269'' Producció i reproducció   Èquid\n",
      "4 42.0º 8.0' 33.0498''  1.0º 4.0' 16.269'' Producció i reproducció   Èquid\n",
      "5 42.0º 11.0' 3.4434''  1.0º 9.0' 8.1786'' Producció i reproducció   Porcí\n",
      "6 42.0º 8.0' 34.8684'' 1.0º 3.0' 53.3232'' Producció i reproducció   Porcí\n",
      "  SUBESPÈCIE                         TIPUS.SUBEXPLOTACIÓ ESTAT.SUBEXPLOTACIÓ\n",
      "1       Boví                     Producció i reproducció              Activa\n",
      "2                                Producció i reproducció              Activa\n",
      "3      Mules Instal·lacions d'èquids d'oci no comercials              Activa\n",
      "4    Cavalls Instal·lacions d'èquids d'oci no comercials              Activa\n",
      "5                                Producció i reproducció              Activa\n",
      "6                                Producció i reproducció              Activa\n",
      "  DATA.CANVI.ESTAT.SUBEXPLOTACIÓ     INTEGRADORA                 NOM.ADS\n",
      "1                     07/04/2021                                        \n",
      "2                     21/01/1997 ESTISANER, SL   ADS RAMADERA PORCICAT  \n",
      "3                     21/11/2014                                        \n",
      "4                     21/11/2014                                        \n",
      "5                     21/04/1997                           ADS PALLARS  \n",
      "6                     01/12/1997                           ADS PALLARS  \n",
      "             CLASSIFICACIÓ.ZOOTÈCNICA DATA.CLASSIFICACIÓ.ZOOTÈCNICA\n",
      "1 Reproducció per a producció de carn                    16/06/2021\n",
      "2                             Engreix                    26/09/2007\n",
      "3                                                                  \n",
      "4                                                                  \n",
      "5                     Producció mixta                    08/04/2022\n",
      "6                             Engreix                    28/04/2017\n",
      "  FORMA.DE.CRIA AUTOCONSUM SISTEMA.PRODUCTIU CRITERI.DE.SOSTENIBILITAT\n",
      "1                       No          Extensiu              Convencional\n",
      "2                       No          Intensiu              Convencional\n",
      "3                       No          Extensiu              Convencional\n",
      "4                       No          Extensiu              Convencional\n",
      "5                       No          Intensiu              Convencional\n",
      "6                       No          Intensiu              Convencional\n",
      "  PETITA.CAPACITAT CAPACITAT.PRODUCTIVA CODI.ZOOTÈCNIC CAPACITAT.PONEDORES\n",
      "1               Si               Grup I                                  0\n",
      "2               No              Grup II                                  0\n",
      "3               Si                                                       0\n",
      "4               Si                                                       0\n",
      "5               No              Grup II                                  0\n",
      "6               No             Grup III                                  0\n",
      "  CAPACITAT.FEMELLES CAPACITAT.ALTRES.FEMELLES CAPACITAT.MASCLES CAPACITAT.CRIA\n",
      "1                  0                         6                 1              0\n",
      "2                  0                         0                 0              0\n",
      "3                  0                         0                 0              0\n",
      "4                  0                         0                 0              0\n",
      "5                192                         0                 4              0\n",
      "6                  0                         0                 0              0\n",
      "  CAPACITAT.ANIMALS..1.ANY CAPACITAT.REPOSICIO CAPACITAT.BRAVES..24\n",
      "1                        0                   0                    0\n",
      "2                        0                   0                    0\n",
      "3                        0                   0                    0\n",
      "4                        0                   0                    0\n",
      "5                        0                  28                    0\n",
      "6                        0                   0                    0\n",
      "  CAPACITAT.ANIMALS..1ANY..2ANYS CAPACITAT.ENGREIX CAP.RECRIA\n",
      "1                              0                 0          0\n",
      "2                              0              2424          0\n",
      "3                              0                 0          0\n",
      "4                              0                 0          0\n",
      "5                              0              1120          0\n",
      "6                              0              6432          0\n",
      "  CAPACITAT.TRANSICIO CAPACITAT.ESTANTS CAPACITAT.TRANSHUMANTS\n",
      "1                   0                 0                      0\n",
      "2                   0                 0                      0\n",
      "3                   0                 0                      0\n",
      "4                   0                 0                      0\n",
      "5                 475                 0                      0\n",
      "6                3456                 0                      0\n",
      "  CAPACITAT.AN.6M.NO.REPR CAPACITAT.OUS CAP.Nº.TOTAL.ANIMALS\n",
      "1                       0            NA                   NA\n",
      "2                       0            NA                   NA\n",
      "3                       0            NA                   NA\n",
      "4                       4            NA                   NA\n",
      "5                       0            NA                   NA\n",
      "6                       0            NA                   NA\n",
      "  TOTAL.CAP.PONEDORES TOTAL.URM TOTAL.NITROGEN DATA.ACTUALITZACIÓ.CAPACITAT\n",
      "1                   0      5.80         372.05                   04/10/2021\n",
      "2                   0    290.88       17574.00                   21/07/2023\n",
      "3                   0      4.00         255.20                   21/11/2014\n",
      "4                   0      4.00         255.20                   21/11/2014\n",
      "5                   0    197.02       11875.25                   04/10/2021\n",
      "6                   0    840.96       50744.64                   05/10/2021\n"
     ]
    }
   ],
   "source": [
    "%%R\n",
    "\n",
    "registration <- read.csv('RER_llistat_explotacions_catalanes.csv', fileEncoding = 'ISO-8859-1')\n",
    "head(registration)"
   ]
  },
  {
   "cell_type": "markdown",
   "metadata": {},
   "source": [
    "### Data Cleaning ###"
   ]
  },
  {
   "cell_type": "code",
   "execution_count": 28,
   "metadata": {},
   "outputs": [],
   "source": [
    "%%R\n",
    "\n",
    "# Ditch rows with SISTEMA.PRODUCTIU as blank\n",
    "registration <- registration[registration$SISTEMA.PRODUCTIU != '',]"
   ]
  },
  {
   "cell_type": "code",
   "execution_count": 29,
   "metadata": {},
   "outputs": [],
   "source": [
    "%%R\n",
    "\n",
    "# Ditch rows where TOTAL URM is 0\n",
    "registration <- registration[registration$TOTAL.URM != 0,]\n",
    "\n",
    "# Ditch rows where TOTAL NITROGEN is 0\n",
    "registration <- registration[registration$TOTAL.NITROGEN != 0,]"
   ]
  },
  {
   "cell_type": "code",
   "execution_count": 30,
   "metadata": {},
   "outputs": [],
   "source": [
    "%%R\n",
    "\n",
    "# Add a column \"Is Intensive\", which is 1 if SISTEMA.PRODUCTIU is \"intensiu\" and 0 otherwise\n",
    "registration$Is.Intensive <- ifelse(registration$SISTEMA.PRODUCTIU == 'Intensiu', 1, 0)"
   ]
  },
  {
   "cell_type": "code",
   "execution_count": 31,
   "metadata": {},
   "outputs": [],
   "source": [
    "%%R\n",
    "\n",
    "# From 'DATA.CANVI.ESTAT.EXPLOTACIÓ' column, extract the year, and put it in a new column 'YEAR'\n",
    "registration$YEAR <- as.numeric(format(as.Date(registration$DATA.CANVI.ESTAT.EXPLOTACIÓ, format=\"%d/%m/%Y\"), \"%Y\"))"
   ]
  },
  {
   "cell_type": "code",
   "execution_count": 32,
   "metadata": {},
   "outputs": [],
   "source": [
    "%%R\n",
    "\n",
    "# Add a column \"Is Pig\", which is 1 if ESPÈCIE == 'PORCÍ', and 0 otherwise\n",
    "registration$IsPig <- ifelse(registration$ESPÈCIE == 'Porcí', 1, 0)\n",
    "\n",
    "# Add a column \"Is Cattle\", which is 1 if ESPÈCIE == 'BOVÍ', and 0 otherwise\n",
    "registration$IsCattle <- ifelse(registration$ESPÈCIE == 'Boví', 1, 0)\n",
    "\n",
    "# Add a column \"Is Poultry\", which is 1 if ESPÈCIE == 'Gallines i pollastres', and 0 otherwise\n",
    "registration$IsPoultry <- ifelse(registration$ESPÈCIE == 'Gallines i pollastres', 1, 0)\n",
    "\n",
    "# Add a column \"Is Sheep\", which is 1 if ESPÈCIE == 'Oví', and 0 otherwise\n",
    "registration$IsSheep <- ifelse(registration$ESPÈCIE == 'Oví', 1, 0)"
   ]
  },
  {
   "cell_type": "markdown",
   "metadata": {},
   "source": [
    "### Regression ###"
   ]
  },
  {
   "cell_type": "code",
   "execution_count": 44,
   "metadata": {},
   "outputs": [
    {
     "name": "stdout",
     "output_type": "stream",
     "text": [
      "\n",
      "Call:\n",
      "lm(formula = TOTAL.NITROGEN ~ Is.Intensive + IsPig + IsCattle + \n",
      "    IsPoultry + IsSheep + YEAR + TOTAL.URM, data = registration)\n",
      "\n",
      "Residuals:\n",
      "   Min     1Q Median     3Q    Max \n",
      "-56934   -461    -21    182  63370 \n",
      "\n",
      "Coefficients:\n",
      "               Estimate Std. Error t value Pr(>|t|)    \n",
      "(Intercept)  15826.3918  3244.3554   4.878 1.08e-06 ***\n",
      "Is.Intensive  -599.8550    39.0139 -15.375  < 2e-16 ***\n",
      "IsPig          395.6880    52.8952   7.481 7.65e-14 ***\n",
      "IsCattle     -2450.7502    46.9188 -52.234  < 2e-16 ***\n",
      "IsPoultry      796.1509    70.8486  11.237  < 2e-16 ***\n",
      "IsSheep      -1054.7211    70.0169 -15.064  < 2e-16 ***\n",
      "YEAR            -7.5821     1.6152  -4.694 2.69e-06 ***\n",
      "TOTAL.URM       58.3754     0.1362 428.583  < 2e-16 ***\n",
      "---\n",
      "Signif. codes:  0 ‘***’ 0.001 ‘**’ 0.01 ‘*’ 0.05 ‘.’ 0.1 ‘ ’ 1\n",
      "\n",
      "Residual standard error: 2474 on 24350 degrees of freedom\n",
      "Multiple R-squared:  0.9129,\tAdjusted R-squared:  0.9129 \n",
      "F-statistic: 3.645e+04 on 7 and 24350 DF,  p-value: < 2.2e-16\n",
      "\n"
     ]
    }
   ],
   "source": [
    "%%R\n",
    "\n",
    "# Run a regression to predict nitrogen based on the following variables:\n",
    "# - Is Intensive\n",
    "# - Is Pig\n",
    "# - Is Cattle\n",
    "# - Is Poultry\n",
    "# - Is Sheep\n",
    "# - YEAR\n",
    "# - TOTAL.URM\n",
    "\n",
    "model <- lm(TOTAL.NITROGEN ~ Is.Intensive + IsPig + IsCattle + IsPoultry + IsSheep + YEAR + TOTAL.URM, data=registration)\n",
    "summary(model)"
   ]
  },
  {
   "cell_type": "code",
   "execution_count": 34,
   "metadata": {},
   "outputs": [
    {
     "name": "stdout",
     "output_type": "stream",
     "text": [
      "      MO      CODI.REGA ESTAT.EXPLOTACIÓ DATA.CANVI.ESTAT.EXPLOTACIÓ\n",
      "1 0010AA ES250010030750           Activa                  21/01/1997\n",
      "2 0010AA ES250010030750           Activa                  21/01/1997\n",
      "3 0010AA ES250010030750           Activa                  21/01/1997\n",
      "4 0010AA ES250010030750           Activa                  21/01/1997\n",
      "5 0010AB ES250010031100           Activa                  21/04/1997\n",
      "6 0010AC ES250010031700           Activa                  01/12/1997\n",
      "           NOM.EXPLOTACIO  ADREÇA.EXPLOTACIÓ CODI.POSTAL.EXPLOTACIO\n",
      "1 CASA JULIU - JORDI GASA        MASIA JULIU                  25651\n",
      "2 CASA JULIU - JORDI GASA        MASIA JULIU                  25651\n",
      "3 CASA JULIU - JORDI GASA        MASIA JULIU                  25651\n",
      "4 CASA JULIU - JORDI GASA        MASIA JULIU                  25651\n",
      "5            CASA GONELLA            BOIXOLS                  25651\n",
      "6        SORT DE L'AGUSTÍ ABELLA DE LA CONCA                  25651\n",
      "  SERVEI.TERRITORIAL..EXPLOTACIÓ PROVINCIA.EXPLOTACIÓ COMARCA.EXPLOTACIÓ\n",
      "1                    Alt Pirineu               Lleida      Pallars Jussà\n",
      "2                    Alt Pirineu               Lleida      Pallars Jussà\n",
      "3                    Alt Pirineu               Lleida      Pallars Jussà\n",
      "4                    Alt Pirineu               Lleida      Pallars Jussà\n",
      "5                    Alt Pirineu               Lleida      Pallars Jussà\n",
      "6                    Alt Pirineu               Lleida      Pallars Jussà\n",
      "  MUNICIPI.EXPLOTACIÓ COORDENADA.X.EXPLOTACIÓ COORDENADA.Y.EXPLOTACIÓ\n",
      "1  Abella de la Conca                340614,1              4667399,98\n",
      "2  Abella de la Conca                340614,1              4667399,98\n",
      "3  Abella de la Conca                340614,1              4667399,98\n",
      "4  Abella de la Conca                340614,1              4667399,98\n",
      "5  Abella de la Conca               347415,25               4671890,5\n",
      "6  Abella de la Conca               340088,59                 4667468\n",
      "    LATITUD.EXPLOTACIÓ LONGITUD.EXPLOTACIÓ        TIPUS.EXPLOTACIÓ ESPÈCIE\n",
      "1 42.0º 8.0' 33.0498''  1.0º 4.0' 16.269'' Producció i reproducció    Boví\n",
      "2 42.0º 8.0' 33.0498''  1.0º 4.0' 16.269'' Producció i reproducció   Porcí\n",
      "3 42.0º 8.0' 33.0498''  1.0º 4.0' 16.269'' Producció i reproducció   Èquid\n",
      "4 42.0º 8.0' 33.0498''  1.0º 4.0' 16.269'' Producció i reproducció   Èquid\n",
      "5 42.0º 11.0' 3.4434''  1.0º 9.0' 8.1786'' Producció i reproducció   Porcí\n",
      "6 42.0º 8.0' 34.8684'' 1.0º 3.0' 53.3232'' Producció i reproducció   Porcí\n",
      "  SUBESPÈCIE                         TIPUS.SUBEXPLOTACIÓ ESTAT.SUBEXPLOTACIÓ\n",
      "1       Boví                     Producció i reproducció              Activa\n",
      "2                                Producció i reproducció              Activa\n",
      "3      Mules Instal·lacions d'èquids d'oci no comercials              Activa\n",
      "4    Cavalls Instal·lacions d'èquids d'oci no comercials              Activa\n",
      "5                                Producció i reproducció              Activa\n",
      "6                                Producció i reproducció              Activa\n",
      "  DATA.CANVI.ESTAT.SUBEXPLOTACIÓ     INTEGRADORA                 NOM.ADS\n",
      "1                     07/04/2021                                        \n",
      "2                     21/01/1997 ESTISANER, SL   ADS RAMADERA PORCICAT  \n",
      "3                     21/11/2014                                        \n",
      "4                     21/11/2014                                        \n",
      "5                     21/04/1997                           ADS PALLARS  \n",
      "6                     01/12/1997                           ADS PALLARS  \n",
      "             CLASSIFICACIÓ.ZOOTÈCNICA DATA.CLASSIFICACIÓ.ZOOTÈCNICA\n",
      "1 Reproducció per a producció de carn                    16/06/2021\n",
      "2                             Engreix                    26/09/2007\n",
      "3                                                                  \n",
      "4                                                                  \n",
      "5                     Producció mixta                    08/04/2022\n",
      "6                             Engreix                    28/04/2017\n",
      "  FORMA.DE.CRIA AUTOCONSUM SISTEMA.PRODUCTIU CRITERI.DE.SOSTENIBILITAT\n",
      "1                       No          Extensiu              Convencional\n",
      "2                       No          Intensiu              Convencional\n",
      "3                       No          Extensiu              Convencional\n",
      "4                       No          Extensiu              Convencional\n",
      "5                       No          Intensiu              Convencional\n",
      "6                       No          Intensiu              Convencional\n",
      "  PETITA.CAPACITAT CAPACITAT.PRODUCTIVA CODI.ZOOTÈCNIC CAPACITAT.PONEDORES\n",
      "1               Si               Grup I                                  0\n",
      "2               No              Grup II                                  0\n",
      "3               Si                                                       0\n",
      "4               Si                                                       0\n",
      "5               No              Grup II                                  0\n",
      "6               No             Grup III                                  0\n",
      "  CAPACITAT.FEMELLES CAPACITAT.ALTRES.FEMELLES CAPACITAT.MASCLES CAPACITAT.CRIA\n",
      "1                  0                         6                 1              0\n",
      "2                  0                         0                 0              0\n",
      "3                  0                         0                 0              0\n",
      "4                  0                         0                 0              0\n",
      "5                192                         0                 4              0\n",
      "6                  0                         0                 0              0\n",
      "  CAPACITAT.ANIMALS..1.ANY CAPACITAT.REPOSICIO CAPACITAT.BRAVES..24\n",
      "1                        0                   0                    0\n",
      "2                        0                   0                    0\n",
      "3                        0                   0                    0\n",
      "4                        0                   0                    0\n",
      "5                        0                  28                    0\n",
      "6                        0                   0                    0\n",
      "  CAPACITAT.ANIMALS..1ANY..2ANYS CAPACITAT.ENGREIX CAP.RECRIA\n",
      "1                              0                 0          0\n",
      "2                              0              2424          0\n",
      "3                              0                 0          0\n",
      "4                              0                 0          0\n",
      "5                              0              1120          0\n",
      "6                              0              6432          0\n",
      "  CAPACITAT.TRANSICIO CAPACITAT.ESTANTS CAPACITAT.TRANSHUMANTS\n",
      "1                   0                 0                      0\n",
      "2                   0                 0                      0\n",
      "3                   0                 0                      0\n",
      "4                   0                 0                      0\n",
      "5                 475                 0                      0\n",
      "6                3456                 0                      0\n",
      "  CAPACITAT.AN.6M.NO.REPR CAPACITAT.OUS CAP.Nº.TOTAL.ANIMALS\n",
      "1                       0            NA                   NA\n",
      "2                       0            NA                   NA\n",
      "3                       0            NA                   NA\n",
      "4                       4            NA                   NA\n",
      "5                       0            NA                   NA\n",
      "6                       0            NA                   NA\n",
      "  TOTAL.CAP.PONEDORES TOTAL.URM TOTAL.NITROGEN DATA.ACTUALITZACIÓ.CAPACITAT\n",
      "1                   0      5.80         372.05                   04/10/2021\n",
      "2                   0    290.88       17574.00                   21/07/2023\n",
      "3                   0      4.00         255.20                   21/11/2014\n",
      "4                   0      4.00         255.20                   21/11/2014\n",
      "5                   0    197.02       11875.25                   04/10/2021\n",
      "6                   0    840.96       50744.64                   05/10/2021\n",
      "  Is.Intensive YEAR IsPig IsCattle IsPoultry IsSheep\n",
      "1            0 1997     0        1         0       0\n",
      "2            1 1997     1        0         0       0\n",
      "3            0 1997     0        0         0       0\n",
      "4            0 1997     0        0         0       0\n",
      "5            1 1997     1        0         0       0\n",
      "6            1 1997     1        0         0       0\n"
     ]
    }
   ],
   "source": [
    "%%R\n",
    "\n",
    "head(registration)"
   ]
  },
  {
   "cell_type": "markdown",
   "metadata": {},
   "source": [
    "## GEO ANALYSIS ##"
   ]
  },
  {
   "cell_type": "code",
   "execution_count": 45,
   "metadata": {},
   "outputs": [
    {
     "name": "stdout",
     "output_type": "stream",
     "text": [
      "# A tibble: 4 × 2\n",
      "  PROVINCIA.EXPLOTACIÓ NUM_PIG_FARMS\n",
      "  <chr>                        <int>\n",
      "1 Lleida                        2793\n",
      "2 Barcelona                     1398\n",
      "3 Girona                         768\n",
      "4 Tarragona                      368\n"
     ]
    }
   ],
   "source": [
    "%%R\n",
    "library(dplyr)\n",
    "\n",
    "# Filter the dataset to include only rows where ESPÈCIE == 'Porcí'\n",
    "pig_farms <- registration[registration$ESPÈCIE == 'Porcí',]\n",
    "\n",
    "# Group by PROVINCIA.EXPLOTACIÓ and count the number of pig farms in each province\n",
    "pig_farms_by_province <- pig_farms %>%\n",
    "  group_by(PROVINCIA.EXPLOTACIÓ) %>%\n",
    "  summarise(NUM_PIG_FARMS = n()) %>%\n",
    "  arrange(desc(NUM_PIG_FARMS))\n",
    "\n",
    "# Print the results\n",
    "print(pig_farms_by_province)"
   ]
  },
  {
   "cell_type": "code",
   "execution_count": 48,
   "metadata": {},
   "outputs": [
    {
     "name": "stdout",
     "output_type": "stream",
     "text": [
      "# A tibble: 577 × 2\n",
      "   MUNICIPI.EXPLOTACIÓ           NUM_PIG_FARMS\n",
      "   <chr>                                 <int>\n",
      " 1 Almenar                                 111\n",
      " 2 Alcarràs                                 96\n",
      " 3 Gurb                                     79\n",
      " 4 Artesa de Segre                          77\n",
      " 5 Lleida                                   75\n",
      " 6 Juneda                                   59\n",
      " 7 Agramunt                                 58\n",
      " 8 Montgai                                  54\n",
      " 9 Gimenells i el Pla de la Font            51\n",
      "10 Torregrossa                              49\n",
      "# ℹ 567 more rows\n",
      "# ℹ Use `print(n = ...)` to see more rows\n"
     ]
    }
   ],
   "source": [
    "%%R\n",
    "\n",
    "# Group by MUNICIPI.EXPLOTACIÓ and count the number of pig farms in each municipality\n",
    "pig_farms_by_municipality <- pig_farms %>%\n",
    "  group_by(MUNICIPI.EXPLOTACIÓ) %>%\n",
    "  summarise(NUM_PIG_FARMS = n()) %>%\n",
    "  arrange(desc(NUM_PIG_FARMS))\n",
    "\n",
    "# Print the results\n",
    "print(pig_farms_by_municipality)"
   ]
  },
  {
   "cell_type": "code",
   "execution_count": 50,
   "metadata": {},
   "outputs": [
    {
     "name": "stdout",
     "output_type": "stream",
     "text": [
      "# A tibble: 519 × 2\n",
      "   CODI.POSTAL.EXPLOTACIO NUM_PIG_FARMS\n",
      "                    <int>         <int>\n",
      " 1                   8519           126\n",
      " 2                  25126           111\n",
      " 3                  25180            96\n",
      " 4                  25212            81\n",
      " 5                   8503            79\n",
      " 6                  25730            76\n",
      " 7                  25749            62\n",
      " 8                  25430            59\n",
      " 9                  25310            57\n",
      "10                  25286            55\n",
      "# ℹ 509 more rows\n",
      "# ℹ Use `print(n = ...)` to see more rows\n"
     ]
    }
   ],
   "source": [
    "%%R\n",
    "\n",
    "# Group by CODI.POSTAL.EXPLOTACIO and count the number of pig farms in each postal code\n",
    "pig_farms_by_postal_code <- pig_farms %>%\n",
    "  group_by(CODI.POSTAL.EXPLOTACIO) %>%\n",
    "  summarise(NUM_PIG_FARMS = n()) %>%\n",
    "  arrange(desc(NUM_PIG_FARMS))\n",
    "\n",
    "# Print the results\n",
    "print(pig_farms_by_postal_code)"
   ]
  }
 ],
 "metadata": {
  "kernelspec": {
   "display_name": "Python 3",
   "language": "python",
   "name": "python3"
  },
  "language_info": {
   "codemirror_mode": {
    "name": "ipython",
    "version": 3
   },
   "file_extension": ".py",
   "mimetype": "text/x-python",
   "name": "python",
   "nbconvert_exporter": "python",
   "pygments_lexer": "ipython3",
   "version": "3.11.6"
  }
 },
 "nbformat": 4,
 "nbformat_minor": 2
}
